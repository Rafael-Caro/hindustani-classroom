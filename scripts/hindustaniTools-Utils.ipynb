{
 "cells": [
  {
   "cell_type": "markdown",
   "metadata": {},
   "source": [
    "# Auxiliary code to prepare the require data for the Hindustani Tools"
   ]
  },
  {
   "cell_type": "code",
   "execution_count": null,
   "metadata": {},
   "outputs": [],
   "source": [
    "import json\n",
    "import os"
   ]
  },
  {
   "cell_type": "markdown",
   "metadata": {},
   "source": [
    "## Patterns"
   ]
  },
  {
   "cell_type": "code",
   "execution_count": null,
   "metadata": {},
   "outputs": [],
   "source": [
    "folderName = 'C:/Users/RCR/Desktop/patterns/'\n",
    "fileName = ''\n",
    "\n",
    "filePath = os.path.join(folderName, fileName)\n",
    "print(filePath)"
   ]
  },
  {
   "cell_type": "markdown",
   "metadata": {},
   "source": [
    "### Patterns for all files in a folder"
   ]
  },
  {
   "cell_type": "code",
   "execution_count": null,
   "metadata": {},
   "outputs": [],
   "source": [
    "files = os.listdir(folderName)\n",
    "\n",
    "for thisFile in files:\n",
    "    patterns = {}\n",
    "    with open(os.path.join(folderName, thisFile), 'r') as f:\n",
    "        data = f.readlines()\n",
    "    for d in data:\n",
    "        if d == '\\n': continue\n",
    "        dInfo = d.rstrip().split('\\t')\n",
    "        start = float(dInfo[0])\n",
    "        end = start + float(dInfo[2])\n",
    "        label = dInfo[3]\n",
    "        if label not in patterns.keys():\n",
    "            patterns[label] = [{'s':round(start, 2), 'e':round(end, 2)}]\n",
    "        else:\n",
    "            patterns[label].append({'s':round(start, 2), 'e':round(end, 2)})\n",
    "    print(thisFile, len(patterns.keys()))\n",
    "    print(json.dumps(patterns))\n",
    "    print()"
   ]
  },
  {
   "cell_type": "code",
   "execution_count": null,
   "metadata": {},
   "outputs": [],
   "source": []
  }
 ],
 "metadata": {
  "kernelspec": {
   "display_name": "Python 3",
   "language": "python",
   "name": "python3"
  },
  "language_info": {
   "codemirror_mode": {
    "name": "ipython",
    "version": 3
   },
   "file_extension": ".py",
   "mimetype": "text/x-python",
   "name": "python",
   "nbconvert_exporter": "python",
   "pygments_lexer": "ipython3",
   "version": "3.7.7"
  }
 },
 "nbformat": 4,
 "nbformat_minor": 4
}
